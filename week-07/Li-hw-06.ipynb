{
 "cells": [
  {
   "cell_type": "markdown",
   "id": "4b5b7255",
   "metadata": {},
   "source": [
    "# Homework 06\n"
   ]
  },
  {
   "cell_type": "markdown",
   "id": "b45e3a2a",
   "metadata": {},
   "source": [
    "### ⚠️ Before you start ⚠️\n",
    "\n",
    "_Duplicate this Jupyter Notebook in your `week-07` folder (right-click -> Duplicate) and then add your last name to the beginning of it (ie. `blevins-hw-06.ipynb` - otherwise you risk having all your work overwritten when you try to sync your GitHub repository with your instructor's repository._\n"
   ]
  },
  {
   "cell_type": "markdown",
   "id": "76c93e69-63e5-478b-90a9-95ac5a016ca8",
   "metadata": {
    "tags": []
   },
   "source": [
    "---\n",
    "Student Name: Jenny Li\n",
    "---\n"
   ]
  },
  {
   "cell_type": "markdown",
   "id": "25cb975d-ea40-4826-9879-5bc8bc8b56c3",
   "metadata": {
    "tags": []
   },
   "source": [
    "## Overview\n",
    "\n",
    "This homework assignment will help you learn how to use the Pandas library to explore tabular data by applying some of the concepts and lessons from Melanie Walsh, [Pandas I](https://info1350.github.io/Intro-CA-SP21/03-Data-Analysis/01-Pandas-Basics-Part1.html) to a new dataset.\n"
   ]
  },
  {
   "cell_type": "markdown",
   "id": "1b3b7714",
   "metadata": {},
   "source": [
    "This week we're going to use a spreadsheet of historical data transcribed by CU Denver history major Ryan Hanlon as part of his final project for the course Introduction to Digital Studies in Spring 2021. The data consists of a passenger list from a steamship that arrived in Boston on April 9, 1884 carrying several hundred immigrants.\n",
    "\n",
    "<div align=\"center\">\n",
    "  <img\n",
    "    src=\"grecian.jpg\"\n",
    "    width=\"60%\"\n",
    "    style=\"border: 2px solid\"\n",
    "    alt=\"Description of image\"\n",
    "  />\n",
    "  <figcaption style=\"font-style: italic\">\n",
    "    The Steamship Grecian\n",
    "  </figcaption>\n",
    "</div>\n"
   ]
  },
  {
   "cell_type": "markdown",
   "id": "392b29fe",
   "metadata": {},
   "source": [
    "The nine-page passenger list from the _Steamship Grecian_ was submitted to authorities at the Port of Boston. This document was later scanned by the Church of Latter Day Saints and made available through its FamilySearch online archive.\n",
    "\n",
    "<div align=\"center\">\n",
    "  <img\n",
    "    src=\"passenger-list-page.jpeg\"\n",
    "    width=\"40%\"\n",
    "    style=\"border: 2px solid\"\n",
    "    alt=\"Description of image\"\n",
    "  />\n",
    "  <figcaption style=\"font-style: italic\">\n",
    "    Passenger list from the Steamship Grecian\n",
    "  </figcaption>\n",
    "</div>\n"
   ]
  },
  {
   "cell_type": "markdown",
   "id": "ff8b1a92",
   "metadata": {},
   "source": [
    "Ryan then transcribed the data in Spring 2021 into a spreadsheet formatted as a CSV (comma separated value) file contained in this folder: `boston-passenger-list-1884.csv`.\n",
    "\n",
    "For this homework, you will be following many of Melanie Walsh's steps in [Pandas I](https://info1350.github.io/Intro-CA-SP21/03-Data-Analysis/01-Pandas-Basics-Part1.html) and then adapting them to fit this new dataset.\n",
    "\n",
    "---\n"
   ]
  },
  {
   "cell_type": "markdown",
   "id": "dfdad06b-b2c0-4971-9b02-3df9883ea90d",
   "metadata": {},
   "source": [
    "1. Import the Pandas library (use the alias `pd`) and read in the CSV file, storing the contents of the file as a dataframe named `passengers_df`. Add a second line of code to display the contents of the dataframe (truncated).\n"
   ]
  },
  {
   "cell_type": "code",
   "execution_count": 9,
   "id": "9f340f81-2b12-4404-ad6e-2c17003ac5b4",
   "metadata": {},
   "outputs": [
    {
     "name": "stdout",
     "output_type": "stream",
     "text": [
      "  first_name last_name         date  age native_country destination_city  \\\n",
      "0        Jno     McNab  09 Apr 1884   21       Scotland          Suelpla   \n",
      "1       Thos  Campbell  09 Apr 1884   24       Scotland          Suelpla   \n",
      "2        Jas  Mitchell  09 Apr 1884   23       Scotland          Detroit   \n",
      "3        Don   Cumming  09 Apr 1884   24       Scotland          Detroit   \n",
      "4        Jno  McKinlay  09 Apr 1884   24       Scotland         Winnipeg   \n",
      "\n",
      "  destination_state  occupation               ship  \n",
      "0            Canada      Farmer  Steamship Grecian  \n",
      "1            Canada      Farmer  Steamship Grecian  \n",
      "2                MI      Farmer  Steamship Grecian  \n",
      "3                MI  Blacksmith  Steamship Grecian  \n",
      "4            Canada      Farmer  Steamship Grecian  \n"
     ]
    }
   ],
   "source": [
    "import pandas as pd\n",
    "passengers_df = pd.read_csv(\"boston-passenger-list-1884.csv\")\n",
    "print(passengers_df.head())"
   ]
  },
  {
   "cell_type": "markdown",
   "id": "bf0b7f3f-33d5-415e-b484-353aeba009a9",
   "metadata": {},
   "source": [
    "2. Display the **first 6 rows** of the dataframe.\n"
   ]
  },
  {
   "cell_type": "code",
   "execution_count": 11,
   "id": "3f28a94c-869c-4e93-b7a3-a47dc8b7cdd1",
   "metadata": {},
   "outputs": [
    {
     "name": "stdout",
     "output_type": "stream",
     "text": [
      "  first_name last_name         date  age native_country destination_city  \\\n",
      "0        Jno     McNab  09 Apr 1884   21       Scotland          Suelpla   \n",
      "1       Thos  Campbell  09 Apr 1884   24       Scotland          Suelpla   \n",
      "2        Jas  Mitchell  09 Apr 1884   23       Scotland          Detroit   \n",
      "3        Don   Cumming  09 Apr 1884   24       Scotland          Detroit   \n",
      "4        Jno  McKinlay  09 Apr 1884   24       Scotland         Winnipeg   \n",
      "5       John    Wilson  09 Apr 1884   28       Scotland           Boston   \n",
      "\n",
      "  destination_state  occupation               ship  \n",
      "0            Canada      Farmer  Steamship Grecian  \n",
      "1            Canada      Farmer  Steamship Grecian  \n",
      "2                MI      Farmer  Steamship Grecian  \n",
      "3                MI  Blacksmith  Steamship Grecian  \n",
      "4            Canada      Farmer  Steamship Grecian  \n",
      "5                MA      Farmer  Steamship Grecian  \n"
     ]
    }
   ],
   "source": [
    "print(passengers_df.head(6))"
   ]
  },
  {
   "cell_type": "markdown",
   "id": "62c95d85-4543-4ee1-baae-eb1960b339f6",
   "metadata": {},
   "source": [
    "3. Show a **random sample of 10 rows** from your dataframe.\n"
   ]
  },
  {
   "cell_type": "code",
   "execution_count": 13,
   "id": "d44f8e7c-2ff0-4b9d-bbdc-8d6f2140b3de",
   "metadata": {},
   "outputs": [
    {
     "name": "stdout",
     "output_type": "stream",
     "text": [
      "    first_name last_name         date  age native_country destination_city  \\\n",
      "154      Celia    Heally  09 Apr 1884   45        Ireland     Philadelphia   \n",
      "275        Ann     Doyle  09 Apr 1884   15        Ireland       Port Lewis   \n",
      "8         Wm.M   Thomson  09 Apr 1884   25       Scotland          Brandon   \n",
      "121       Math       Foy  09 Apr 1884   16        Ireland       New London   \n",
      "514          F   Doherty  09 Apr 1884   27  United States           Boston   \n",
      "353        Ann   Brennan  09 Apr 1884   11        Ireland         New York   \n",
      "315        Jas    Divine  09 Apr 1884    6        Ireland            Fonda   \n",
      "11      Thos.B    Watson  09 Apr 1884   23       Scotland           Boston   \n",
      "233        and  Cafferty  09 Apr 1884   50        Ireland          Chicago   \n",
      "486        Pat  Flaherty  09 Apr 1884   15        Ireland        Pittsburg   \n",
      "\n",
      "    destination_state occupation               ship  \n",
      "154                PA       Wife  Steamship Grecian  \n",
      "275                NY   Domestic  Steamship Grecian  \n",
      "8                  VT     Farmer  Steamship Grecian  \n",
      "121                PA    Laborer  Steamship Grecian  \n",
      "514                MA    Boatman  Steamship Grecian  \n",
      "353                NY      Child  Steamship Grecian  \n",
      "315                NY      Child  Steamship Grecian  \n",
      "11                 MA      Clerk  Steamship Grecian  \n",
      "233                IL    Laborer  Steamship Grecian  \n",
      "486                PA    Laborer  Steamship Grecian  \n"
     ]
    }
   ],
   "source": [
    "print(passengers_df.sample(10))"
   ]
  },
  {
   "cell_type": "markdown",
   "id": "8de01b35-056f-449d-9c36-1ee37039ab61",
   "metadata": {},
   "source": [
    "4. What are **two historical questions** about this list of passengers that you might be able to answer using Pandas?\n"
   ]
  },
  {
   "cell_type": "markdown",
   "id": "e481cd00-22da-49e7-b29f-66574e2643aa",
   "metadata": {},
   "source": [
    "_Your answer here._\n",
    "\n",
    "1. What is the average age\n",
    "2. How many passengers arrived on 1884\n"
   ]
  },
  {
   "cell_type": "markdown",
   "id": "d411ac05-ff3f-45cc-9e1a-709ea68f5387",
   "metadata": {},
   "source": [
    "## Analyzing the Data\n"
   ]
  },
  {
   "cell_type": "markdown",
   "id": "421c48fa-2e5f-487a-bc4f-3c5dba3ffef6",
   "metadata": {},
   "source": [
    "5. Calculate \"summary statistics\" for the passenger data.\n"
   ]
  },
  {
   "cell_type": "code",
   "execution_count": 18,
   "id": "c9e0047b-67f2-4685-9e47-8df6fe77a4fc",
   "metadata": {},
   "outputs": [
    {
     "data": {
      "text/html": [
       "<div>\n",
       "<style scoped>\n",
       "    .dataframe tbody tr th:only-of-type {\n",
       "        vertical-align: middle;\n",
       "    }\n",
       "\n",
       "    .dataframe tbody tr th {\n",
       "        vertical-align: top;\n",
       "    }\n",
       "\n",
       "    .dataframe thead th {\n",
       "        text-align: right;\n",
       "    }\n",
       "</style>\n",
       "<table border=\"1\" class=\"dataframe\">\n",
       "  <thead>\n",
       "    <tr style=\"text-align: right;\">\n",
       "      <th></th>\n",
       "      <th>first_name</th>\n",
       "      <th>last_name</th>\n",
       "      <th>date</th>\n",
       "      <th>age</th>\n",
       "      <th>native_country</th>\n",
       "      <th>destination_city</th>\n",
       "      <th>destination_state</th>\n",
       "      <th>occupation</th>\n",
       "      <th>ship</th>\n",
       "    </tr>\n",
       "  </thead>\n",
       "  <tbody>\n",
       "    <tr>\n",
       "      <th>count</th>\n",
       "      <td>512</td>\n",
       "      <td>515</td>\n",
       "      <td>515</td>\n",
       "      <td>515.000000</td>\n",
       "      <td>515</td>\n",
       "      <td>515</td>\n",
       "      <td>515</td>\n",
       "      <td>515</td>\n",
       "      <td>515</td>\n",
       "    </tr>\n",
       "    <tr>\n",
       "      <th>unique</th>\n",
       "      <td>102</td>\n",
       "      <td>170</td>\n",
       "      <td>1</td>\n",
       "      <td>NaN</td>\n",
       "      <td>3</td>\n",
       "      <td>56</td>\n",
       "      <td>21</td>\n",
       "      <td>9</td>\n",
       "      <td>1</td>\n",
       "    </tr>\n",
       "    <tr>\n",
       "      <th>top</th>\n",
       "      <td>Mary</td>\n",
       "      <td>Doherty</td>\n",
       "      <td>09 Apr 1884</td>\n",
       "      <td>NaN</td>\n",
       "      <td>Ireland</td>\n",
       "      <td>Boston</td>\n",
       "      <td>MA</td>\n",
       "      <td>Laborer</td>\n",
       "      <td>Steamship Grecian</td>\n",
       "    </tr>\n",
       "    <tr>\n",
       "      <th>freq</th>\n",
       "      <td>59</td>\n",
       "      <td>12</td>\n",
       "      <td>515</td>\n",
       "      <td>NaN</td>\n",
       "      <td>461</td>\n",
       "      <td>107</td>\n",
       "      <td>134</td>\n",
       "      <td>189</td>\n",
       "      <td>515</td>\n",
       "    </tr>\n",
       "    <tr>\n",
       "      <th>mean</th>\n",
       "      <td>NaN</td>\n",
       "      <td>NaN</td>\n",
       "      <td>NaN</td>\n",
       "      <td>21.440777</td>\n",
       "      <td>NaN</td>\n",
       "      <td>NaN</td>\n",
       "      <td>NaN</td>\n",
       "      <td>NaN</td>\n",
       "      <td>NaN</td>\n",
       "    </tr>\n",
       "    <tr>\n",
       "      <th>std</th>\n",
       "      <td>NaN</td>\n",
       "      <td>NaN</td>\n",
       "      <td>NaN</td>\n",
       "      <td>13.115392</td>\n",
       "      <td>NaN</td>\n",
       "      <td>NaN</td>\n",
       "      <td>NaN</td>\n",
       "      <td>NaN</td>\n",
       "      <td>NaN</td>\n",
       "    </tr>\n",
       "    <tr>\n",
       "      <th>min</th>\n",
       "      <td>NaN</td>\n",
       "      <td>NaN</td>\n",
       "      <td>NaN</td>\n",
       "      <td>0.000000</td>\n",
       "      <td>NaN</td>\n",
       "      <td>NaN</td>\n",
       "      <td>NaN</td>\n",
       "      <td>NaN</td>\n",
       "      <td>NaN</td>\n",
       "    </tr>\n",
       "    <tr>\n",
       "      <th>25%</th>\n",
       "      <td>NaN</td>\n",
       "      <td>NaN</td>\n",
       "      <td>NaN</td>\n",
       "      <td>11.000000</td>\n",
       "      <td>NaN</td>\n",
       "      <td>NaN</td>\n",
       "      <td>NaN</td>\n",
       "      <td>NaN</td>\n",
       "      <td>NaN</td>\n",
       "    </tr>\n",
       "    <tr>\n",
       "      <th>50%</th>\n",
       "      <td>NaN</td>\n",
       "      <td>NaN</td>\n",
       "      <td>NaN</td>\n",
       "      <td>20.000000</td>\n",
       "      <td>NaN</td>\n",
       "      <td>NaN</td>\n",
       "      <td>NaN</td>\n",
       "      <td>NaN</td>\n",
       "      <td>NaN</td>\n",
       "    </tr>\n",
       "    <tr>\n",
       "      <th>75%</th>\n",
       "      <td>NaN</td>\n",
       "      <td>NaN</td>\n",
       "      <td>NaN</td>\n",
       "      <td>28.000000</td>\n",
       "      <td>NaN</td>\n",
       "      <td>NaN</td>\n",
       "      <td>NaN</td>\n",
       "      <td>NaN</td>\n",
       "      <td>NaN</td>\n",
       "    </tr>\n",
       "    <tr>\n",
       "      <th>max</th>\n",
       "      <td>NaN</td>\n",
       "      <td>NaN</td>\n",
       "      <td>NaN</td>\n",
       "      <td>64.000000</td>\n",
       "      <td>NaN</td>\n",
       "      <td>NaN</td>\n",
       "      <td>NaN</td>\n",
       "      <td>NaN</td>\n",
       "      <td>NaN</td>\n",
       "    </tr>\n",
       "  </tbody>\n",
       "</table>\n",
       "</div>"
      ],
      "text/plain": [
       "       first_name last_name         date         age native_country  \\\n",
       "count         512       515          515  515.000000            515   \n",
       "unique        102       170            1         NaN              3   \n",
       "top          Mary   Doherty  09 Apr 1884         NaN        Ireland   \n",
       "freq           59        12          515         NaN            461   \n",
       "mean          NaN       NaN          NaN   21.440777            NaN   \n",
       "std           NaN       NaN          NaN   13.115392            NaN   \n",
       "min           NaN       NaN          NaN    0.000000            NaN   \n",
       "25%           NaN       NaN          NaN   11.000000            NaN   \n",
       "50%           NaN       NaN          NaN   20.000000            NaN   \n",
       "75%           NaN       NaN          NaN   28.000000            NaN   \n",
       "max           NaN       NaN          NaN   64.000000            NaN   \n",
       "\n",
       "       destination_city destination_state occupation               ship  \n",
       "count               515               515        515                515  \n",
       "unique               56                21          9                  1  \n",
       "top              Boston                MA    Laborer  Steamship Grecian  \n",
       "freq                107               134        189                515  \n",
       "mean                NaN               NaN        NaN                NaN  \n",
       "std                 NaN               NaN        NaN                NaN  \n",
       "min                 NaN               NaN        NaN                NaN  \n",
       "25%                 NaN               NaN        NaN                NaN  \n",
       "50%                 NaN               NaN        NaN                NaN  \n",
       "75%                 NaN               NaN        NaN                NaN  \n",
       "max                 NaN               NaN        NaN                NaN  "
      ]
     },
     "execution_count": 18,
     "metadata": {},
     "output_type": "execute_result"
    }
   ],
   "source": [
    "passengers_df.describe(include=\"all\")"
   ]
  },
  {
   "cell_type": "markdown",
   "id": "adc4b799-282d-47fc-8ec1-98b9a6ac9137",
   "metadata": {},
   "source": [
    "6. Looking at the summary statistics, answer the following questions:\n",
    "\n",
    "- What is the most frequently occuring last name?\n",
    "- How often does the most frequently occuring last name appear?\n",
    "- How many different _kinds_ of occupations are listed in the data?\n",
    "- How old is the oldest passenger?\n"
   ]
  },
  {
   "cell_type": "markdown",
   "id": "dd1a33c3-f884-47d2-bad6-b7ac1a85f88f",
   "metadata": {},
   "source": [
    "Your answers here:\n",
    "\n",
    "- What is the most frequently occuring last name? Doherty\n",
    "- How often does the most frequently occuring last name appear? 12\n",
    "- How many different _kinds_ of occupations are listed in the data? 170\n",
    "- How old is the oldest passenger? 64\n"
   ]
  },
  {
   "cell_type": "markdown",
   "id": "7f214254-b287-469b-be3d-0a18e2460ad9",
   "metadata": {},
   "source": [
    "7. Write code to answer: what was the **median** age of the passengers?\n"
   ]
  },
  {
   "cell_type": "code",
   "execution_count": 22,
   "id": "bf0458e4-892e-497b-9543-92ef66e3e80b",
   "metadata": {},
   "outputs": [
    {
     "name": "stdout",
     "output_type": "stream",
     "text": [
      "20.0\n"
     ]
    }
   ],
   "source": [
    "median_age = passengers_df[\"age\"].median()\n",
    "print(median_age)\n"
   ]
  },
  {
   "cell_type": "markdown",
   "id": "253a1523-01a2-4be3-ac86-081b3d43d495",
   "metadata": {},
   "source": [
    "8. What were the **ten most frequent cities** that passengers were traveling to and how many of them were going to each of these cities?\n"
   ]
  },
  {
   "cell_type": "code",
   "execution_count": 24,
   "id": "3edd1315-f228-41b0-905f-6e2709033889",
   "metadata": {},
   "outputs": [
    {
     "name": "stdout",
     "output_type": "stream",
     "text": [
      "destination_city\n",
      "Boston          107\n",
      "Pittsburg        52\n",
      "Chicago          36\n",
      "Scranton         30\n",
      "New York         26\n",
      "Brooklyn         26\n",
      "Portland         23\n",
      "Philadelphia     17\n",
      "St. Louis        15\n",
      "Fonda            11\n",
      "Name: count, dtype: int64\n"
     ]
    }
   ],
   "source": [
    "top_10_cities = passengers_df[\"destination_city\"].value_counts().head(10)\n",
    "print(top_10_cities)\n"
   ]
  },
  {
   "cell_type": "markdown",
   "id": "56e06642-451d-4999-8857-ea15c0df3148",
   "metadata": {},
   "source": [
    "9. Follow [Walsh's example](https://melaniewalsh.github.io/Intro-Cultural-Analytics/03-Data-Analysis/01-Pandas-Basics-Part1.html#:~:text=in%20the%201840s.-,Make%20and%20Save%20Plots,-%C2%B6) and adapt her code to make a bar chart of the **top ten most frequent destination cities** based on **how many passengers** were going to each of them.\n"
   ]
  },
  {
   "cell_type": "code",
   "execution_count": 26,
   "id": "e0d535a4-fcd5-422f-873b-ba98257967fa",
   "metadata": {},
   "outputs": [
    {
     "data": {
      "image/png": "[encoded data removed]",
      "text/plain": [
       "<Figure size 1000x600 with 1 Axes>"
      ]
     },
     "metadata": {},
     "output_type": "display_data"
    }
   ],
   "source": [
    "import matplotlib.pyplot as plt\n",
    "top_10_cities = passengers_df[\"destination_city\"].value_counts().head(10)\n",
    "plt.figure(figsize=(10, 6))\n",
    "top_10_cities.plot(kind=\"bar\", color=\"skyblue\")\n",
    "plt.xlabel(\"Destination Cities\")\n",
    "plt.ylabel(\"Number of Passengers\")\n",
    "plt.title(\"Top 10 Most Frequent Destination Cities\")\n",
    "plt.xticks(rotation=45)\n",
    "plt.show()"
   ]
  },
  {
   "cell_type": "markdown",
   "id": "18768b2f-ee7b-4d2c-8587-208b25714938",
   "metadata": {},
   "source": [
    "10. Where were passengers coming from? Print out **the most frequent countries** they were immigrating from and how many passengers were coming from each country. Hint: use `value_counts()` and index.\n"
   ]
  },
  {
   "cell_type": "code",
   "execution_count": 28,
   "id": "159cf023-a193-4343-8adf-4253d0f717d7",
   "metadata": {},
   "outputs": [
    {
     "ename": "KeyError",
     "evalue": "'origin_country'",
     "output_type": "error",
     "traceback": [
      "\u001b[0;31m---------------------------------------------------------------------------\u001b[0m",
      "\u001b[0;31mKeyError\u001b[0m                                  Traceback (most recent call last)",
      "File \u001b[0;32m/opt/anaconda3/lib/python3.12/site-packages/pandas/core/indexes/base.py:3805\u001b[0m, in \u001b[0;36mIndex.get_loc\u001b[0;34m(self, key)\u001b[0m\n\u001b[1;32m   3804\u001b[0m \u001b[38;5;28;01mtry\u001b[39;00m:\n\u001b[0;32m-> 3805\u001b[0m     \u001b[38;5;28;01mreturn\u001b[39;00m \u001b[38;5;28mself\u001b[39m\u001b[38;5;241m.\u001b[39m_engine\u001b[38;5;241m.\u001b[39mget_loc(casted_key)\n\u001b[1;32m   3806\u001b[0m \u001b[38;5;28;01mexcept\u001b[39;00m \u001b[38;5;167;01mKeyError\u001b[39;00m \u001b[38;5;28;01mas\u001b[39;00m err:\n",
      "File \u001b[0;32mindex.pyx:167\u001b[0m, in \u001b[0;36mpandas._libs.index.IndexEngine.get_loc\u001b[0;34m()\u001b[0m\n",
      "File \u001b[0;32mindex.pyx:196\u001b[0m, in \u001b[0;36mpandas._libs.index.IndexEngine.get_loc\u001b[0;34m()\u001b[0m\n",
      "File \u001b[0;32mpandas/_libs/hashtable_class_helper.pxi:7081\u001b[0m, in \u001b[0;36mpandas._libs.hashtable.PyObjectHashTable.get_item\u001b[0;34m()\u001b[0m\n",
      "File \u001b[0;32mpandas/_libs/hashtable_class_helper.pxi:7089\u001b[0m, in \u001b[0;36mpandas._libs.hashtable.PyObjectHashTable.get_item\u001b[0;34m()\u001b[0m\n",
      "\u001b[0;31mKeyError\u001b[0m: 'origin_country'",
      "\nThe above exception was the direct cause of the following exception:\n",
      "\u001b[0;31mKeyError\u001b[0m                                  Traceback (most recent call last)",
      "Cell \u001b[0;32mIn[28], line 1\u001b[0m\n\u001b[0;32m----> 1\u001b[0m origin_countries \u001b[38;5;241m=\u001b[39m passengers_df[\u001b[38;5;124m'\u001b[39m\u001b[38;5;124morigin_country\u001b[39m\u001b[38;5;124m'\u001b[39m]\u001b[38;5;241m.\u001b[39mvalue_counts()\n\u001b[1;32m      2\u001b[0m \u001b[38;5;28mprint\u001b[39m(origin_countries)\n",
      "File \u001b[0;32m/opt/anaconda3/lib/python3.12/site-packages/pandas/core/frame.py:4102\u001b[0m, in \u001b[0;36mDataFrame.__getitem__\u001b[0;34m(self, key)\u001b[0m\n\u001b[1;32m   4100\u001b[0m \u001b[38;5;28;01mif\u001b[39;00m \u001b[38;5;28mself\u001b[39m\u001b[38;5;241m.\u001b[39mcolumns\u001b[38;5;241m.\u001b[39mnlevels \u001b[38;5;241m>\u001b[39m \u001b[38;5;241m1\u001b[39m:\n\u001b[1;32m   4101\u001b[0m     \u001b[38;5;28;01mreturn\u001b[39;00m \u001b[38;5;28mself\u001b[39m\u001b[38;5;241m.\u001b[39m_getitem_multilevel(key)\n\u001b[0;32m-> 4102\u001b[0m indexer \u001b[38;5;241m=\u001b[39m \u001b[38;5;28mself\u001b[39m\u001b[38;5;241m.\u001b[39mcolumns\u001b[38;5;241m.\u001b[39mget_loc(key)\n\u001b[1;32m   4103\u001b[0m \u001b[38;5;28;01mif\u001b[39;00m is_integer(indexer):\n\u001b[1;32m   4104\u001b[0m     indexer \u001b[38;5;241m=\u001b[39m [indexer]\n",
      "File \u001b[0;32m/opt/anaconda3/lib/python3.12/site-packages/pandas/core/indexes/base.py:3812\u001b[0m, in \u001b[0;36mIndex.get_loc\u001b[0;34m(self, key)\u001b[0m\n\u001b[1;32m   3807\u001b[0m     \u001b[38;5;28;01mif\u001b[39;00m \u001b[38;5;28misinstance\u001b[39m(casted_key, \u001b[38;5;28mslice\u001b[39m) \u001b[38;5;129;01mor\u001b[39;00m (\n\u001b[1;32m   3808\u001b[0m         \u001b[38;5;28misinstance\u001b[39m(casted_key, abc\u001b[38;5;241m.\u001b[39mIterable)\n\u001b[1;32m   3809\u001b[0m         \u001b[38;5;129;01mand\u001b[39;00m \u001b[38;5;28many\u001b[39m(\u001b[38;5;28misinstance\u001b[39m(x, \u001b[38;5;28mslice\u001b[39m) \u001b[38;5;28;01mfor\u001b[39;00m x \u001b[38;5;129;01min\u001b[39;00m casted_key)\n\u001b[1;32m   3810\u001b[0m     ):\n\u001b[1;32m   3811\u001b[0m         \u001b[38;5;28;01mraise\u001b[39;00m InvalidIndexError(key)\n\u001b[0;32m-> 3812\u001b[0m     \u001b[38;5;28;01mraise\u001b[39;00m \u001b[38;5;167;01mKeyError\u001b[39;00m(key) \u001b[38;5;28;01mfrom\u001b[39;00m \u001b[38;5;21;01merr\u001b[39;00m\n\u001b[1;32m   3813\u001b[0m \u001b[38;5;28;01mexcept\u001b[39;00m \u001b[38;5;167;01mTypeError\u001b[39;00m:\n\u001b[1;32m   3814\u001b[0m     \u001b[38;5;66;03m# If we have a listlike key, _check_indexing_error will raise\u001b[39;00m\n\u001b[1;32m   3815\u001b[0m     \u001b[38;5;66;03m#  InvalidIndexError. Otherwise we fall through and re-raise\u001b[39;00m\n\u001b[1;32m   3816\u001b[0m     \u001b[38;5;66;03m#  the TypeError.\u001b[39;00m\n\u001b[1;32m   3817\u001b[0m     \u001b[38;5;28mself\u001b[39m\u001b[38;5;241m.\u001b[39m_check_indexing_error(key)\n",
      "\u001b[0;31mKeyError\u001b[0m: 'origin_country'"
     ]
    }
   ],
   "source": [
    "origin_countries = passengers_df['origin_country'].value_counts()\n",
    "print(origin_countries)"
   ]
  },
  {
   "cell_type": "markdown",
   "id": "217cb633-ef39-4479-ba19-7e556ebc85a3",
   "metadata": {},
   "source": [
    "11. Make a pie chart showing **how many passengers were coming from each country**. Adapt [Walsh's example](https://melaniewalsh.github.io/Intro-Cultural-Analytics/03-Data-Analysis/01-Pandas-Basics-Part1.html#:~:text=To%20make%20a%20pie%20chart%2C).\n"
   ]
  },
  {
   "cell_type": "code",
   "execution_count": null,
   "id": "860a204a-8060-4845-bee5-022da95592d2",
   "metadata": {},
   "outputs": [],
   "source": [
    "import matplotlib.pyplot as plt\n",
    "country_counts = passengers_df[\"origin_country\"].value_counts()\n",
    "plt.figure(figsize=(8, 8))\n",
    "country_counts.plot(kind=\"pie\", autopct=\"%1.1f%%\", startangle=140, colormap=\"Pastel1\")\n",
    "plt.title(\"Percentage of Passengers by Country of Origin\")\n",
    "plt.ylabel(\"\")  # Hide y-label for better visualization\n",
    "plt.show()"
   ]
  },
  {
   "cell_type": "markdown",
   "id": "596ff7d6-8819-409e-874a-d29421e03b62",
   "metadata": {},
   "source": [
    "12. Create a new variable called `children_filter` and assign it a True/False statement to that variable that specifies passengers who were **children**. Then use this new `children_filter` to create a new dataframe called `children_df` that **only contains passengers who were children**. Display a sample of **five random rows** from this new dataframe. Hint: look under the `occupation` column in your dataframe. Hint: [Walsh example](https://melaniewalsh.github.io/Intro-Cultural-Analytics/03-Data-Analysis/01-Pandas-Basics-Part1.html#:~:text=it%20can%20be%20helpful%20to%20make%20a%20separate%20variable%20for%20a%20filter).\n"
   ]
  },
  {
   "cell_type": "code",
   "execution_count": null,
   "id": "2d4e1e97-59ab-40a5-962c-8b957b4bc317",
   "metadata": {
    "tags": []
   },
   "outputs": [],
   "source": [
    "children_filter = passengers_df[\"age\"] < 18\n",
    "children_df = passengers_df[children_filter]\n",
    "children_df.sample(5)"
   ]
  },
  {
   "cell_type": "markdown",
   "id": "744af8b9-09b8-4b31-ab3f-57aa1e7cce88",
   "metadata": {},
   "source": [
    "13. Create a **new CSV file** named `passenger-list-children.csv` that only contains records for passengers who were children. Hint: you'll be printing the contents of `children_df` to a CSV file using `to_csv()` method. [Walsh example](https://melaniewalsh.github.io/Intro-Cultural-Analytics/03-Data-Analysis/01-Pandas-Basics-Part1.html#:~:text=To%20output%20a%20new%20CSV%20file). To check to make sure you successfully created the file, add a line of code that reads in the newly created CSV file using `pd.read_csv()`.\n"
   ]
  },
  {
   "cell_type": "code",
   "execution_count": null,
   "id": "31f2ea0a-bfed-4c7c-b0ac-48b07c5c4e95",
   "metadata": {},
   "outputs": [],
   "source": [
    "children_df.to_csv(\"passenger-list-children.csv\", index=False)\n",
    "new_children_df = pd.read_csv(\"passenger-list-children.csv\")\n",
    "new_children_df.head()"
   ]
  },
  {
   "cell_type": "markdown",
   "id": "196a2c06",
   "metadata": {},
   "source": [
    "## Bonus Questions\n"
   ]
  },
  {
   "cell_type": "markdown",
   "id": "fe39a415-beed-4174-8129-fd7e4d687f0a",
   "metadata": {},
   "source": [
    "What was the cut-off age for classifying a passenger as a child? Ie. What was **the oldest a passenger could be to still be considered a child**? Write code that prints out the answer to this question.\n"
   ]
  },
  {
   "cell_type": "code",
   "execution_count": null,
   "id": "b51ba412-e369-44b1-ba5c-e04fe51a30e9",
   "metadata": {},
   "outputs": [],
   "source": [
    "#Your Code Here"
   ]
  },
  {
   "cell_type": "markdown",
   "id": "273f6342",
   "metadata": {},
   "source": [
    "**Age Comparison**: Calculate and write print() statements that show:\n",
    "\n",
    "- The average age of passengers from **Ireland**\n",
    "- The average age of passengers from **Scotland**.\n",
    "- The difference in years between these average\n"
   ]
  },
  {
   "cell_type": "code",
   "execution_count": null,
   "id": "91e312f3",
   "metadata": {},
   "outputs": [],
   "source": [
    "#Your Code Here"
   ]
  },
  {
   "cell_type": "markdown",
   "id": "7c1a9038",
   "metadata": {},
   "source": [
    "**Save a Filtered Dataset**: Create a new CSV file that contains data for: only adult passengers (**age 18 and over**) who were heading to **Boston**.\n"
   ]
  },
  {
   "cell_type": "code",
   "execution_count": null,
   "id": "8d4602a8",
   "metadata": {},
   "outputs": [],
   "source": [
    "#Your Code Here"
   ]
  }
 ],
 "metadata": {
  "kernelspec": {
   "display_name": "Python [conda env:base] *",
   "language": "python",
   "name": "conda-base-py"
  },
  "language_info": {
   "codemirror_mode": {
    "name": "ipython",
    "version": 3
   },
   "file_extension": ".py",
   "mimetype": "text/x-python",
   "name": "python",
   "nbconvert_exporter": "python",
   "pygments_lexer": "ipython3",
   "version": "3.12.7"
  },
  "toc-autonumbering": false,
  "toc-showmarkdowntxt": false,
  "toc-showtags": false
 },
 "nbformat": 4,
 "nbformat_minor": 5
}
